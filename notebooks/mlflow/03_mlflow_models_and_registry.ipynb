{
 "cells": [
  {
   "cell_type": "markdown",
   "id": "ffe92709",
   "metadata": {},
   "source": [
    "# 3. MLflow Models & Model Registry\n",
    "\n",
    "Learn how to log, save, load, and manage models with MLflow.\n",
    "\n",
    "## Topics Covered\n",
    "- Logging and loading models\n",
    "- Model flavors\n",
    "- Model Registry: versioning, stage transitions\n",
    "    "
   ]
  },
  {
   "cell_type": "code",
   "execution_count": null,
   "id": "c7accb15",
   "metadata": {},
   "outputs": [],
   "source": [
    "import mlflow\n",
    "import mlflow.sklearn\n",
    "from sklearn.ensemble import RandomForestClassifier\n",
    "from sklearn.datasets import load_iris\n",
    "from sklearn.model_selection import train_test_split\n",
    "\n",
    "# Train and log model\n",
    "data = load_iris()\n",
    "X_train, X_test, y_train, y_test = train_test_split(data.data, data.target, test_size=0.2)\n",
    "model = RandomForestClassifier()\n",
    "model.fit(X_train, y_train)\n",
    "with mlflow.start_run():\n",
    "    mlflow.sklearn.log_model(model, 'model')\n",
    "    print('Model logged!')\n",
    "# Load model\n",
    "model_uri = 'runs:/{run_id}/model'  # Replace {run_id} with your actual run id\n",
    "# loaded_model = mlflow.sklearn.load_model(model_uri)\n",
    "    "
   ]
  },
  {
   "cell_type": "markdown",
   "id": "562381f9",
   "metadata": {},
   "source": [
    "## Model Registry\n",
    "- Register models, manage versions, and promote to Staging/Production.\n",
    "- Use the MLflow UI or API for registry operations.\n",
    "    "
   ]
  }
 ],
 "metadata": {
  "language_info": {
   "name": "python"
  }
 },
 "nbformat": 4,
 "nbformat_minor": 5
}
