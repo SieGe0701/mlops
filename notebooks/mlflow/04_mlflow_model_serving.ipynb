{
 "cells": [
  {
   "cell_type": "markdown",
   "id": "6716848e",
   "metadata": {},
   "source": [
    "# 4. MLflow Model Serving\n",
    "\n",
    "How to deploy and serve models using MLflow.\n",
    "\n",
    "## Topics Covered\n",
    "- Serving models as REST APIs\n",
    "- Making predictions via HTTP requests\n",
    "    "
   ]
  },
  {
   "cell_type": "code",
   "execution_count": null,
   "id": "f1d750e0",
   "metadata": {},
   "outputs": [],
   "source": [
    "# Serve a model\n",
    "# mlflow models serve -m runs:/<run_id>/model --port 1234\n",
    "# Make a prediction\n",
    "# curl -X POST -H 'Content-Type: application/json' --data '{\"inputs\": [[5.1, 3.5, 1.4, 0.2]]}' http://127.0.0.1:1234/invocations\n",
    "    "
   ]
  },
  {
   "cell_type": "markdown",
   "id": "fa91cbfb",
   "metadata": {},
   "source": [
    "## Notes\n",
    "- You can serve any logged model using the above command.\n",
    "- The REST API accepts JSON input for predictions.\n",
    "    "
   ]
  }
 ],
 "metadata": {
  "language_info": {
   "name": "python"
  }
 },
 "nbformat": 4,
 "nbformat_minor": 5
}
