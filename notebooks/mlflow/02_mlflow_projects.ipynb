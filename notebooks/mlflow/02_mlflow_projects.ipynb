{
 "cells": [
  {
   "cell_type": "markdown",
   "id": "a15a6820",
   "metadata": {},
   "source": [
    "# 2. MLflow Projects\n",
    "\n",
    "Learn how to package code and dependencies for reproducible ML runs using MLflow Projects.\n",
    "\n",
    "## Topics Covered\n",
    "- MLproject file structure\n",
    "- Running projects locally and remotely\n",
    "- Parameterizing runs\n",
    "    "
   ]
  },
  {
   "cell_type": "code",
   "execution_count": null,
   "id": "2e2f5e4d",
   "metadata": {},
   "outputs": [],
   "source": [
    "# Example MLproject file\n",
    "mlproject_content = '''\n",
    "name: ExampleProject\n",
    "conda_env: conda.yaml\n",
    "entry_points:\n",
    "  main:\n",
    "    parameters:\n",
    "      n_estimators: {type: int, default: 100}\n",
    "    command: \"python src/pipeline.py --n_estimators {n_estimators}\"\n",
    "    "
   ]
  },
  {
   "cell_type": "markdown",
   "id": "865574e6",
   "metadata": {},
   "source": [
    "## How to Run\n",
    "\n",
    "- Save the above as `MLproject` in your repo root.\n",
    "- Run: `mlflow run . -P n_estimators=200`\n",
    "    "
   ]
  }
 ],
 "metadata": {
  "language_info": {
   "name": "python"
  }
 },
 "nbformat": 4,
 "nbformat_minor": 5
}
