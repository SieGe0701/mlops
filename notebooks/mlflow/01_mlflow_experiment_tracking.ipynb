{
 "cells": [
  {
   "cell_type": "markdown",
   "id": "7108910d",
   "metadata": {},
   "source": [
    "# 1. MLflow Experiment Tracking\n",
    "\n",
    "This notebook covers the basics and advanced usage of MLflow's experiment tracking capabilities.\n",
    "\n",
    "## Topics Covered\n",
    "- Logging parameters, metrics, and artifacts\n",
    "- Organizing and comparing runs\n",
    "- Custom logging (images, plots, files)\n",
    "- Using the MLflow UI\n",
    "    "
   ]
  },
  {
   "cell_type": "code",
   "execution_count": 3,
   "id": "a44494e7",
   "metadata": {},
   "outputs": [
    {
     "name": "stderr",
     "output_type": "stream",
     "text": [
      "2025/09/23 11:47:07 WARNING mlflow.models.model: `artifact_path` is deprecated. Please use `name` instead.\n",
      "2025/09/23 11:47:12 WARNING mlflow.models.model: Model logged without a signature and input example. Please set `input_example` parameter when logging the model to auto infer the model signature.\n",
      "2025/09/23 11:47:12 WARNING mlflow.models.model: Model logged without a signature and input example. Please set `input_example` parameter when logging the model to auto infer the model signature.\n"
     ]
    },
    {
     "name": "stdout",
     "output_type": "stream",
     "text": [
      "Logged run with accuracy: 1.0\n"
     ]
    }
   ],
   "source": [
    "import mlflow\n",
    "import mlflow.sklearn\n",
    "from sklearn.ensemble import RandomForestClassifier\n",
    "from sklearn.datasets import load_iris\n",
    "from sklearn.model_selection import train_test_split\n",
    "from sklearn.metrics import accuracy_score\n",
    "import matplotlib.pyplot as plt\n",
    "import numpy as np\n",
    "\n",
    "\n",
    "# Load data\n",
    "data = load_iris()\n",
    "X_train, X_test, y_train, y_test = train_test_split(data.data, data.target, test_size=0.2, random_state=42)\n",
    "\n",
    "with mlflow.start_run(run_name='rf_experiment'):\n",
    "    model = RandomForestClassifier(n_estimators=100, random_state=42)\n",
    "    model.fit(X_train, y_train)\n",
    "    preds = model.predict(X_test)\n",
    "    acc = accuracy_score(y_test, preds)\n",
    "    mlflow.log_param('n_estimators', 100)\n",
    "    mlflow.log_metric('accuracy', acc)\n",
    "    mlflow.sklearn.log_model(model, 'model')\n",
    "    # Log a plot as an artifact\n",
    "    fig, ax = plt.subplots()\n",
    "    ax.bar(np.unique(y_test), np.bincount(preds))\n",
    "    plt.title('Prediction Distribution')\n",
    "    plt.savefig('pred_dist.png')\n",
    "    mlflow.log_artifact('pred_dist.png')\n",
    "    plt.close(fig)\n",
    "    print(f'Logged run with accuracy: {acc}')"
   ]
  },
  {
   "cell_type": "markdown",
   "id": "920025a4",
   "metadata": {},
   "source": [
    "### Explanation: MLflow Experiment Logging\n",
    "\n",
    "- **mlflow.start_run()**: Starts a new MLflow run to track this experiment.\n",
    "- **mlflow.log_param()**: Logs hyperparameters (here, `n_estimators`).\n",
    "- **mlflow.log_metric()**: Logs evaluation metrics (here, `accuracy`).\n",
    "- **mlflow.sklearn.log_model()**: Saves the trained model as an artifact.\n",
    "- **mlflow.log_artifact()**: Logs any file (here, a plot image) as an artifact.\n",
    "\n",
    "After running this cell, you can view all logged information in the MLflow UI. This makes it easy to compare different experiments and keep track of your results."
   ]
  },
  {
   "cell_type": "markdown",
   "id": "47e32315",
   "metadata": {},
   "source": [
    "## How to Use the MLflow UI\n",
    "\n",
    "- Run `mlflow ui` in your terminal.\n",
    "- Open [http://localhost:5000](http://localhost:5000) in your browser.\n",
    "- Compare runs, view parameters, metrics, and artifacts.\n",
    "    "
   ]
  },
  {
   "cell_type": "markdown",
   "id": "201c215f",
   "metadata": {},
   "source": []
  }
 ],
 "metadata": {
  "kernelspec": {
   "display_name": ".venv",
   "language": "python",
   "name": "python3"
  },
  "language_info": {
   "codemirror_mode": {
    "name": "ipython",
    "version": 3
   },
   "file_extension": ".py",
   "mimetype": "text/x-python",
   "name": "python",
   "nbconvert_exporter": "python",
   "pygments_lexer": "ipython3",
   "version": "3.13.7"
  }
 },
 "nbformat": 4,
 "nbformat_minor": 5
}
