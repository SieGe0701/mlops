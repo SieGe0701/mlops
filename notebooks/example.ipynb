{
 "cells": [
  {
   "cell_type": "markdown",
   "id": "86c61103",
   "metadata": {},
   "source": [
    "# Example Notebook\n",
    "This notebook demonstrates a simple ML workflow using the code in `src/pipeline.py`."
   ]
  },
  {
   "cell_type": "code",
   "execution_count": null,
   "id": "a051fa89",
   "metadata": {},
   "outputs": [],
   "source": [
    "import sys\n",
    "sys.path.append('../src')\n",
    "from pipeline import load_data, train_model, evaluate_model\n",
    "\n",
    "# Example usage (replace with your own data)\n",
    "# df = load_data('../data/your_data.csv')\n",
    "# X = df.drop('target', axis=1)\n",
    "# y = df['target']\n",
    "# X_train, X_test, y_train, y_test = train_test_split(X, y, test_size=0.2)\n",
    "# model = train_model(X_train, y_train)\n",
    "# acc = evaluate_model(model, X_test, y_test)\n",
    "# print(f'Accuracy: {acc}')"
   ]
  }
 ],
 "metadata": {
  "language_info": {
   "name": "python"
  }
 },
 "nbformat": 4,
 "nbformat_minor": 5
}
